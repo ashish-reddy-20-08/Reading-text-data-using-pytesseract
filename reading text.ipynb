{
 "cells": [
  {
   "cell_type": "code",
   "execution_count": 11,
   "id": "0608d18e",
   "metadata": {},
   "outputs": [],
   "source": [
    "import numpy as np"
   ]
  },
  {
   "cell_type": "code",
   "execution_count": 1,
   "id": "5fdf948b",
   "metadata": {},
   "outputs": [],
   "source": [
    "import pytesseract\n",
    "pytesseract.pytesseract.tesseract_cmd='C:/Program Files/Tesseract-OCR/tesseract.exe'"
   ]
  },
  {
   "cell_type": "code",
   "execution_count": 2,
   "id": "4b4d4dd9",
   "metadata": {},
   "outputs": [],
   "source": [
    "import cv2 #for reading images"
   ]
  },
  {
   "cell_type": "code",
   "execution_count": 6,
   "id": "f00f043f",
   "metadata": {},
   "outputs": [],
   "source": [
    "img=cv2.imread('data.png')\n"
   ]
  },
  {
   "cell_type": "code",
   "execution_count": 7,
   "id": "ff7b80b0",
   "metadata": {},
   "outputs": [],
   "source": [
    "cv2.imshow('image',img)\n",
    "cv2.waitKey(0)\n",
    "cv2.destroyAllWindows()"
   ]
  },
  {
   "cell_type": "code",
   "execution_count": 8,
   "id": "390624db",
   "metadata": {},
   "outputs": [],
   "source": [
    "img = cv2.cvtColor(img, cv2.COLOR_BGR2GRAY)"
   ]
  },
  {
   "cell_type": "code",
   "execution_count": 12,
   "id": "97c7b7b8",
   "metadata": {},
   "outputs": [],
   "source": [
    "kernel = np.ones((1, 1), np.uint8)\n",
    "img = cv2.dilate(img, kernel, iterations=1)\n",
    "img = cv2.erode(img, kernel, iterations=1)"
   ]
  },
  {
   "cell_type": "code",
   "execution_count": 13,
   "id": "e8f947d2",
   "metadata": {},
   "outputs": [],
   "source": [
    "cv2.imshow('image',img)\n",
    "cv2.waitKey(0)\n",
    "cv2.destroyAllWindows()"
   ]
  },
  {
   "cell_type": "code",
   "execution_count": 15,
   "id": "e0024650",
   "metadata": {},
   "outputs": [],
   "source": [
    "a=cv2.threshold(cv2.medianBlur(img, 3), 0, 255, cv2.THRESH_BINARY + cv2.THRESH_OTSU)[1]\n"
   ]
  },
  {
   "cell_type": "code",
   "execution_count": 16,
   "id": "1e89854f",
   "metadata": {},
   "outputs": [],
   "source": [
    "cv2.imshow('image',a)\n",
    "cv2.waitKey(0)\n",
    "cv2.destroyAllWindows()"
   ]
  },
  {
   "cell_type": "code",
   "execution_count": 17,
   "id": "11db0b34",
   "metadata": {},
   "outputs": [],
   "source": [
    "b=cv2.adaptiveThreshold(cv2.bilateralFilter(img, 9, 75, 75), 255, cv2.ADAPTIVE_THRESH_GAUSSIAN_C, cv2.THRESH_BINARY, 31, 2)\n"
   ]
  },
  {
   "cell_type": "code",
   "execution_count": 18,
   "id": "1cb06060",
   "metadata": {},
   "outputs": [],
   "source": [
    "cv2.imshow('image',b)\n",
    "cv2.waitKey(0)\n",
    "cv2.destroyAllWindows()"
   ]
  },
  {
   "cell_type": "code",
   "execution_count": 19,
   "id": "26063a65",
   "metadata": {},
   "outputs": [
    {
     "name": "stdout",
     "output_type": "stream",
     "text": [
      "ACUTE TOXICITY IN MICE\n",
      "\n",
      "3-Hydroxy-3-methylbutanoic acid (Tur 13)\n",
      "\n",
      "courcuno\n",
      "\n",
      "sounce —LOXillara - Organic Chemistry 9. spyo __OR39-23 vernon AY.\n",
      "373/79\n",
      "\n",
      "ate necenen —_UNK« resten 12/28/78 eronreo 10/6/80, Update\n",
      "\n",
      "vesroxtONS) H. S. Tong & M. S. Forte! notesooxeace —BIOL4-23\n",
      "\n",
      "emma <7 gn db Gti (hie 0 Pate)\n",
      "\n",
      "sraan or wee SWiss-Webster wus * see bare necengo UX ~\n",
      "veRace WEGHT RANGE (OM source Camm Research\n",
      "ure oF courowno Aounistaon aro ow ow CD mwacaron\n",
      "cowowno venice §— 5 METI. ceULOSE a com on osune power\n",
      "rove wo x sownow some Sea,\n",
      "(ota Bcc 0 CEN ese0)\n",
      ": 1800 1/6\n",
      ": 10 2160 0/6\n",
      "* 10 2592 o/6\n",
      "‘ 10 3732 3/6\n",
      "* 10 4479 6/6\n",
      "\n",
      "rcrenence roncarcusnon Litchfield, J. T. and Wilcoxin, F., J. of Pharmacol.\n",
      "\n",
      "and Exper. Ther., 90:99, 1948.\n",
      "\n",
      "toseex conromnce mrs _3.5 (3.1 to 3.9) q/kg\n",
      "\n",
      "concwson THIS compound appears to act _as_a CNS depressant with symptons\n",
      "\n",
      "of respiratory depression, constriction of blood vessels, and in-\n",
      "\n",
      "activity. Survivors recovered in 48 hours. The recommended safe\n",
      "\n",
      "dose for a single trial by inhalation in man is 0.3 mg.\n",
      "\n",
      "3\n",
      "| Copies to the Following: Dr. H. J, Minnemeyer 3\n",
      "Hs. U. 8. Gray e\n",
      "\n",
      "TORUAR RESEARON CENTER Pom (5)\n",
      "\n",
      "\n"
     ]
    }
   ],
   "source": [
    "text=pytesseract.image_to_string(img)\n",
    "print(text)"
   ]
  },
  {
   "cell_type": "code",
   "execution_count": null,
   "id": "43101519",
   "metadata": {},
   "outputs": [],
   "source": []
  }
 ],
 "metadata": {
  "kernelspec": {
   "display_name": "Python 3",
   "language": "python",
   "name": "python3"
  },
  "language_info": {
   "codemirror_mode": {
    "name": "ipython",
    "version": 3
   },
   "file_extension": ".py",
   "mimetype": "text/x-python",
   "name": "python",
   "nbconvert_exporter": "python",
   "pygments_lexer": "ipython3",
   "version": "3.8.8"
  }
 },
 "nbformat": 4,
 "nbformat_minor": 5
}
